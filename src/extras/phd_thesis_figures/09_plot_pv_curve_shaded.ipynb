{
 "cells": [
  {
   "cell_type": "code",
   "execution_count": 1,
   "metadata": {},
   "outputs": [],
   "source": [
    "import matplotlib.pyplot as plt\n",
    "from src.pvsys import ShadedArray"
   ]
  },
  {
   "cell_type": "code",
   "execution_count": 2,
   "metadata": {},
   "outputs": [],
   "source": [
    "CB91_Blue = '#2CBDFE'\n",
    "CB91_Green = '#47DBCD'\n",
    "CB91_Pink = '#F3A0F2'\n",
    "CB91_Purple = '#9D2EC5'\n",
    "CB91_Violet = '#661D98'\n",
    "CB91_Amber = '#F5B14C'\n",
    "\n",
    "color_list = [\n",
    "            CB91_Blue,\n",
    "            CB91_Amber,\n",
    "            CB91_Green,\n",
    "            CB91_Violet,\n",
    "            CB91_Pink,\n",
    "            CB91_Purple,\n",
    "            ]\n",
    "              \n",
    "plt.rcParams['axes.prop_cycle'] = plt.cycler(color=color_list)\n",
    "plt.rc(\"text\", usetex=True)\n",
    "plt.rc(\"font\", family=\"serif\")"
   ]
  },
  {
   "cell_type": "code",
   "execution_count": 3,
   "metadata": {},
   "outputs": [],
   "source": [
    "IRRADIANCES = [\n",
    "    [900, 300, 900, 900],\n",
    "    [800, 200, 200, 800],\n",
    "    [100, 200, 300, 600],\n",
    "]\n",
    "CELL_TEMPS = [\n",
    "    [25, 25, 25, 25],\n",
    "    [25, 25, 25, 25],\n",
    "    [25, 25, 25, 25],\n",
    "]\n",
    "TEMPERATURES = [\n",
    "    [ShadedArray.ambient_temp_from_cell(g, ct)]\n",
    "    for amb in zip(IRRADIANCES, CELL_TEMPS)\n",
    "    for g, ct in zip(*amb)\n",
    "]\n",
    "\n",
    "pvsyss = ShadedArray.get_default_array()"
   ]
  },
  {
   "cell_type": "code",
   "execution_count": 4,
   "metadata": {},
   "outputs": [],
   "source": [
    "class LMPP:\n",
    "    def __init__(self, lmpps):\n",
    "        self.voltage = []\n",
    "        self.current = []\n",
    "        self.power = []\n",
    "\n",
    "        for lmpp in lmpps:\n",
    "            v = lmpp.voltage\n",
    "            i = lmpp.current\n",
    "            self.voltage.append(v)\n",
    "            self.current.append(i)\n",
    "            self.power.append(v * i)\n",
    "    "
   ]
  },
  {
   "cell_type": "code",
   "execution_count": 5,
   "metadata": {},
   "outputs": [],
   "source": [
    "POINTS_PER_CURVE = (120, 120, 120)\n",
    "curves = []\n",
    "powers = []\n",
    "mpps = []\n",
    "lmpps = []\n",
    "\n",
    "for g, t, points in zip(IRRADIANCES, TEMPERATURES, POINTS_PER_CURVE):\n",
    "    pvsyss.simulate(\n",
    "        duty_cycle=0.0,\n",
    "        irradiance=g,\n",
    "        ambient_temperature=t,\n",
    "    )\n",
    "    curve = pvsyss.get_shaded_iv_curve(curve_points=points)\n",
    "    mpp = pvsyss.mpp_from_curve(curve)\n",
    "\n",
    "    lmpps.append(LMPP([pt for pt in ShadedArray.allmpp_from_curve(curve) if not pt == mpp]))\n",
    "    powers.append(pvsyss.power(curve.voltage, curve.current))\n",
    "    mpps.append(mpp)\n",
    "    curves.append(curve)\n",
    "\n",
    "    "
   ]
  },
  {
   "cell_type": "code",
   "execution_count": 6,
   "metadata": {},
   "outputs": [
    {
     "data": {
      "image/png": "[encoded data removed]",
      "text/plain": [
       "<Figure size 432x288 with 1 Axes>"
      ]
     },
     "metadata": {
      "needs_background": "light"
     },
     "output_type": "display_data"
    }
   ],
   "source": [
    "fig = plt.figure()\n",
    "ax = fig.add_subplot(111)\n",
    "ax.set_xlabel(\"Voltaje (V)\")\n",
    "ax.set_ylabel(\"Potencia (W)\")\n",
    "\n",
    "# plot pv curve\n",
    "for i, (curve, p, mpp, lmpp, g, t, color) in enumerate(zip(curves, powers, mpps, lmpps, IRRADIANCES, CELL_TEMPS, color_list), start=1):\n",
    "    label = f'PSC {i}'\n",
    "    ax.plot(curve.voltage, p, linewidth=1.0, label=label, color=color)\n",
    "\n",
    "# plot mpps and lmpps\n",
    "for mpp, lmpp in zip(mpps, lmpps):\n",
    "    ax.plot(mpp.voltage, mpp.current * mpp.voltage, 'o', color='k', ms=4.0)\n",
    "    ax.plot(lmpp.voltage, lmpp.power, 'o', color='k', markerfacecolor='none', ms=4.0)\n",
    "    \n",
    "# dummy plot for legend\n",
    "ax.plot([],[], 'o', color='k', ms=4.0, label='$\\\\textrm{GMPP}$')\n",
    "ax.plot([],[], 'o', color='k', markerfacecolor='none', ms=4.0, label=f'LMPP')\n",
    "\n",
    "ax.legend(loc='upper left')\n",
    "\n",
    "fig.tight_layout()  # otherwise the right y-label is slightly clipped\n",
    "\n",
    "fig.savefig(r'output/ch2_multiple_pv_curves_shaded.pdf', bbox_inches='tight')"
   ]
  },
  {
   "cell_type": "code",
   "execution_count": null,
   "metadata": {},
   "outputs": [],
   "source": []
  }
 ],
 "metadata": {
  "interpreter": {
   "hash": "f2d58166cc104020804edeacd7427d77b20cfad18516c79d640fb360ccf2c09a"
  },
  "kernelspec": {
   "display_name": "Python 3.8.10 ('rl38')",
   "language": "python",
   "name": "python3"
  },
  "language_info": {
   "codemirror_mode": {
    "name": "ipython",
    "version": 3
   },
   "file_extension": ".py",
   "mimetype": "text/x-python",
   "name": "python",
   "nbconvert_exporter": "python",
   "pygments_lexer": "ipython3",
   "version": "3.8.10"
  },
  "orig_nbformat": 4
 },
 "nbformat": 4,
 "nbformat_minor": 2
}
