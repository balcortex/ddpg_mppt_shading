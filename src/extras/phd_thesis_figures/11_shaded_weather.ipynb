{
 "cells": [
  {
   "cell_type": "code",
   "execution_count": 1,
   "metadata": {},
   "outputs": [],
   "source": [
    "from pathlib import Path\n",
    "from typing import Sequence\n",
    "\n",
    "import matplotlib.dates as mdates\n",
    "import matplotlib.pyplot as plt\n",
    "import pandas as pd"
   ]
  },
  {
   "cell_type": "code",
   "execution_count": 2,
   "metadata": {},
   "outputs": [],
   "source": [
    "PATH_TRAIN = Path(r\"data/synthetic_weather_train_4_4_0.9.csv\")\n",
    "PATH_TEST = Path(r\"data/synthetic_weather_test_4_4_0.9.csv\")\n",
    "DAY_INDEX_TRAIN = [0, 1, 2, 3]\n",
    "DAY_INDEX_TEST = [0, 1, 2, 3]\n",
    "\n",
    "LEGEND = {\n",
    "    'Irradiance 0': 'Módulo 1',\n",
    "    'Irradiance 1': 'Módulo 2',\n",
    "    'Irradiance 2': 'Módulo 3',\n",
    "    'Irradiance 3': 'Módulo 4',\n",
    "}\n",
    "\n",
    "CB91_Blue = \"#2CBDFE\"\n",
    "CB91_Green = \"#47DBCD\"\n",
    "CB91_Pink = \"#F3A0F2\"\n",
    "CB91_Purple = \"#9D2EC5\"\n",
    "CB91_Violet = \"#661D98\"\n",
    "CB91_Amber = \"#F5B14C\"\n",
    "\n",
    "color_list = [\n",
    "    CB91_Blue,\n",
    "    CB91_Amber,\n",
    "    CB91_Green,\n",
    "    CB91_Violet,\n",
    "    CB91_Pink,\n",
    "    CB91_Purple,\n",
    "]\n",
    "\n",
    "plt.rcParams[\"axes.prop_cycle\"] = plt.cycler(color=color_list)\n",
    "\n",
    "plt.rc(\"text\", usetex=True)\n",
    "plt.rc(\"font\", family=\"serif\")\n",
    "\n",
    "locator = mdates.AutoDateLocator(minticks=3, maxticks=7)\n",
    "formatter = mdates.ConciseDateFormatter(locator)"
   ]
  },
  {
   "cell_type": "code",
   "execution_count": 3,
   "metadata": {},
   "outputs": [],
   "source": [
    "def read_csv(path: Path) -> pd.DataFrame:\n",
    "    df = pd.read_csv(path)\n",
    "    df[\"Date\"] = pd.to_datetime(df[\"Date\"])\n",
    "    df.set_index(\"Date\", drop=True, inplace=True)\n",
    "\n",
    "    return df\n",
    "\n",
    "\n",
    "def plot(df: pd.DataFrame):\n",
    "    fig = plt.figure()\n",
    "    ax = fig.add_subplot(111)\n",
    "\n",
    "    for col in df.columns:\n",
    "        if \"Amb\" in col:\n",
    "            continue  # Skip ambient temperatures\n",
    "        ax.plot(df.index, df[col], label=LEGEND[col])\n",
    "        ax.xaxis.set_major_locator(locator)\n",
    "        ax.xaxis.set_major_formatter(formatter)\n",
    "        ax.set_ylabel(\"Irradiancia solar $\\mathrm{(W/m^2)}$\")\n",
    "        ax.legend(loc=\"upper left\")\n",
    "\n",
    "    fig.tight_layout()  # otherwise the right y-label is slightly clipped\n",
    "    \n",
    "\n",
    "    return fig\n",
    "\n",
    "def add_year_offset(df: pd.DataFrame) -> pd.DataFrame:\n",
    "    df.index = df.index + pd.DateOffset(years=1)\n",
    "    return df\n",
    "\n",
    "\n",
    "def split_df_by_day(df: pd.DataFrame) -> Sequence[pd.DataFrame]:\n",
    "    return [group[1] for group in df.groupby(df.index.date)]"
   ]
  },
  {
   "cell_type": "code",
   "execution_count": 4,
   "metadata": {},
   "outputs": [],
   "source": [
    "df_train = read_csv(PATH_TRAIN)\n",
    "df_test = read_csv(PATH_TEST)\n",
    "df_test = add_year_offset(df_test)\n",
    "df_train_day = split_df_by_day(df_train)\n",
    "df_test_day = split_df_by_day(df_test)"
   ]
  },
  {
   "cell_type": "code",
   "execution_count": 5,
   "metadata": {},
   "outputs": [],
   "source": [
    "for i, day in enumerate(DAY_INDEX_TRAIN, start=1):\n",
    "    fig = plot(df_train_day[day])\n",
    "    fig.savefig(f'output/fig_10_train_day_{i:02}.pdf', bbox_inches='tight')\n",
    "    plt.close(fig)"
   ]
  },
  {
   "cell_type": "code",
   "execution_count": 6,
   "metadata": {},
   "outputs": [],
   "source": [
    "for i, day in enumerate(DAY_INDEX_TEST, start=1):\n",
    "    fig = plot(df_test_day[day])\n",
    "    fig.savefig(f'output/fig_11_test_day_{i:02}.pdf', bbox_inches='tight')\n",
    "    plt.close(fig)"
   ]
  }
 ],
 "metadata": {
  "kernelspec": {
   "display_name": "Python 3.8.10 ('rl38')",
   "language": "python",
   "name": "python3"
  },
  "language_info": {
   "codemirror_mode": {
    "name": "ipython",
    "version": 3
   },
   "file_extension": ".py",
   "mimetype": "text/x-python",
   "name": "python",
   "nbconvert_exporter": "python",
   "pygments_lexer": "ipython3",
   "version": "3.8.10"
  },
  "orig_nbformat": 4,
  "vscode": {
   "interpreter": {
    "hash": "f2d58166cc104020804edeacd7427d77b20cfad18516c79d640fb360ccf2c09a"
   }
  }
 },
 "nbformat": 4,
 "nbformat_minor": 2
}
