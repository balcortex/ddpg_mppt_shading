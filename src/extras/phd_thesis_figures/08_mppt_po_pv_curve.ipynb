{
 "cells": [
  {
   "cell_type": "code",
   "execution_count": 1,
   "metadata": {},
   "outputs": [],
   "source": [
    "import matplotlib.pyplot as plt\n",
    "from src.pvsys import ShadedArray"
   ]
  },
  {
   "cell_type": "code",
   "execution_count": 2,
   "metadata": {},
   "outputs": [],
   "source": [
    "CB91_Blue = '#2CBDFE'\n",
    "CB91_Green = '#47DBCD'\n",
    "CB91_Pink = '#F3A0F2'\n",
    "CB91_Purple = '#9D2EC5'\n",
    "CB91_Violet = '#661D98'\n",
    "CB91_Amber = '#F5B14C'\n",
    "\n",
    "color_list = [\n",
    "            CB91_Blue,\n",
    "            CB91_Amber,\n",
    "            CB91_Green,\n",
    "            CB91_Violet,\n",
    "            CB91_Pink,\n",
    "            CB91_Purple,\n",
    "            ]\n",
    "              \n",
    "plt.rcParams['axes.prop_cycle'] = plt.cycler(color=color_list)\n",
    "plt.rc(\"text\", usetex=True)\n",
    "plt.rc(\"font\", family=\"serif\")"
   ]
  },
  {
   "cell_type": "code",
   "execution_count": 3,
   "metadata": {},
   "outputs": [],
   "source": [
    "IRRADIANCE = 1000\n",
    "CELL_TEMP = 25\n",
    "TEMPERATURE = ShadedArray.ambient_temp_from_cell(IRRADIANCE, CELL_TEMP)\n",
    "\n",
    "pvsyss = ShadedArray.get_default_array()"
   ]
  },
  {
   "cell_type": "code",
   "execution_count": 4,
   "metadata": {},
   "outputs": [],
   "source": [
    "pvsyss.simulate(\n",
    "        duty_cycle=0.0,\n",
    "        irradiance=[IRRADIANCE, ] * 4,\n",
    "        ambient_temperature=[TEMPERATURE, ] * 4,\n",
    "    )\n",
    "curve = pvsyss.get_shaded_iv_curve(curve_points=1000)\n",
    "power = pvsyss.power(curve.voltage, curve.current)\n",
    "mpp = pvsyss.mpp_from_curve(curve)"
   ]
  },
  {
   "cell_type": "code",
   "execution_count": 5,
   "metadata": {},
   "outputs": [
    {
     "data": {
      "image/png": "[encoded data removed]",
      "text/plain": [
       "<Figure size 432x288 with 1 Axes>"
      ]
     },
     "metadata": {
      "needs_background": "light"
     },
     "output_type": "display_data"
    }
   ],
   "source": [
    "fig = plt.figure()\n",
    "ax = fig.add_subplot(111)\n",
    "ax.set_xlabel(\"Voltaje (V)\")\n",
    "ax.set_ylabel(\"Potencia (W)\")\n",
    "\n",
    "power = pvsyss.power(curve.voltage, curve.current)\n",
    "ax.plot(curve.voltage, power)\n",
    "ax.plot(mpp.voltage, mpp.current * mpp.voltage, 'o', markersize=4, color='k', label='Punto de Máxima Potencia')\n",
    "\n",
    "# plot line from mpp to x axis\n",
    "ax.plot([mpp.voltage, mpp.voltage], [0, mpp.current * mpp.voltage], '--', dashes=(2,6), color='0.5', linewidth=1.0)\n",
    "\n",
    "# add text to mpp\n",
    "ax.text(mpp.voltage, mpp.current * mpp.voltage * 1.04, '$\\\\frac{\\Delta P}{\\Delta V} = 0$', fontsize=12, ha='center', va='baseline')\n",
    "\n",
    "# add text to the left of the mpp\n",
    "ax.text(mpp.voltage * 0.5, mpp.current * mpp.voltage * 0.61, '$\\\\frac{\\Delta P}{\\Delta V} > 0$', fontsize=12, ha='center', va='baseline')\n",
    "\n",
    "# add text to the right of the mpp\n",
    "ax.text(mpp.voltage * 1.23, mpp.current * mpp.voltage * 0.61, '$\\\\frac{\\Delta P}{\\Delta V} < 0$', fontsize=12, ha='center', va='baseline')\n",
    "\n",
    "points_x = curve.voltage[150], curve.voltage[200]\n",
    "points_y = power[150], power[200]\n",
    "# mark the points at points_x, points_y\n",
    "ax.plot(points_x, points_y, 's', markersize=4, color='k', markerfacecolor='none', label='Puntos de Operación')\n",
    "# add a horizontal line perpendicular to the line between points_x, points_y\n",
    "ax.plot([points_x[0], points_x[1]], [points_y[0], points_y[0]], '--', dashes=(2,6), color='0.5', linewidth=1.0)\n",
    "# add a verticle line perpendicular at the intersection of the line between points_x, points_y\n",
    "ax.plot([points_x[1], points_x[1]], [points_y[1], points_y[0]], '--', dashes=(2,6), color='0.5', linewidth=1.0)\n",
    "# add the text 'delta v' at the middle of the line between points_x, points_y, below the line\n",
    "ax.text((points_x[0] + points_x[1]) / 2, points_y[0] * .8, '$\\Delta V$', fontsize=10, ha='center', va='baseline')\n",
    "# add the text 'delta p' at the middle of the perpendicular line between points_x, points_y, to the right of the line\n",
    "ax.text(points_x[1] * 1.1, points_y[0] * 1.13, '$\\Delta P$', fontsize=10, ha='center', va='baseline')\n",
    "\n",
    "# plot an arrow from the 300th point to the 400th point below the line\n",
    "ax.annotate('', xy=(curve.voltage[500], power[500]*0.95), xytext=(curve.voltage[460], power[460]*0.94), arrowprops=dict(arrowstyle='->'), )\n",
    "ax.annotate('', xy=(curve.voltage[400], power[400]*0.95), xytext=(curve.voltage[360], power[360]*0.94), arrowprops=dict(arrowstyle='->'), )\n",
    "ax.annotate('', xy=(curve.voltage[300], power[300]*0.93), xytext=(curve.voltage[260], power[260]*0.92), arrowprops=dict(arrowstyle='->'), )\n",
    "ax.annotate('', xy=(curve.voltage[580], power[580]*0.95), xytext=(curve.voltage[596], power[598]*0.94), arrowprops=dict(arrowstyle='->'), )\n",
    "ax.annotate('', xy=(curve.voltage[616]*.985, power[616]), xytext=(curve.voltage[634]*.985, power[634]), arrowprops=dict(arrowstyle='->'), )\n",
    "ax.annotate('', xy=(curve.voltage[640]*.985, power[640]), xytext=(curve.voltage[645]*.985, power[645]), arrowprops=dict(arrowstyle='->'), )\n",
    "\n",
    "# add dummy scatter points to obtain a legend of an arrow\n",
    "ax.scatter( [] , [], color='k', marker=r'$\\rightarrow$',s=20, label='Trayectoria P\\&O' )\n",
    "\n",
    "# set y limit to max power * 1.1\n",
    "ax.set_ylim(0, power.max() * 1.1)\n",
    "\n",
    "ax.legend(loc='upper left')\n",
    "\n",
    "fig.tight_layout()  # otherwise the right y-label is slightly clipped\n",
    "\n",
    "fig.savefig(r'output/ch2_mppt_po_dynamic.pdf', bbox_inches='tight')"
   ]
  },
  {
   "cell_type": "code",
   "execution_count": 6,
   "metadata": {},
   "outputs": [
    {
     "data": {
      "text/plain": [
       "26.408576905151907"
      ]
     },
     "execution_count": 6,
     "metadata": {},
     "output_type": "execute_result"
    }
   ],
   "source": [
    "mpp.voltage"
   ]
  }
 ],
 "metadata": {
  "interpreter": {
   "hash": "f2d58166cc104020804edeacd7427d77b20cfad18516c79d640fb360ccf2c09a"
  },
  "kernelspec": {
   "display_name": "Python 3.8.10 ('rl38')",
   "language": "python",
   "name": "python3"
  },
  "language_info": {
   "codemirror_mode": {
    "name": "ipython",
    "version": 3
   },
   "file_extension": ".py",
   "mimetype": "text/x-python",
   "name": "python",
   "nbconvert_exporter": "python",
   "pygments_lexer": "ipython3",
   "version": "3.8.10"
  },
  "orig_nbformat": 4
 },
 "nbformat": 4,
 "nbformat_minor": 2
}
