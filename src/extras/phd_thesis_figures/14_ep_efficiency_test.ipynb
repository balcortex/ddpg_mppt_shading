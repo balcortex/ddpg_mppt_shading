{
 "cells": [
  {
   "cell_type": "code",
   "execution_count": 1,
   "metadata": {},
   "outputs": [],
   "source": [
    "import locale\n",
    "from pathlib import Path\n",
    "from typing import Sequence\n",
    "\n",
    "import matplotlib.axes._axes as axes\n",
    "import matplotlib.dates as mdates\n",
    "import matplotlib.pyplot as plt\n",
    "import pandas as pd\n",
    "from matplotlib.figure import Figure\n",
    "\n"
   ]
  },
  {
   "cell_type": "code",
   "execution_count": 2,
   "metadata": {},
   "outputs": [],
   "source": [
    "PATH = Path(r\"C:\\Users\\balco\\Downloads\\phd_data\")\n",
    "# DAY_INDEX = range(60)\n",
    "# DAY_INDEX_MEAN = range(60)\n",
    "DAY_INDEX = [0, 4, 7, 26, 32, 46, 49, 54] # performance by day and mean\n",
    "DAY_INDEX_MEAN = [0, 4, 7, 26, 32, 46, 49, 54] # performance by day and mean\n",
    "FOLDER_INDEX = [1]\n",
    "\n",
    "CB91_Blue = \"#2CBDFE\"\n",
    "CB91_Green = \"#47DBCD\"\n",
    "CB91_Pink = \"#F3A0F2\"\n",
    "CB91_Purple = \"#9D2EC5\"\n",
    "CB91_Violet = \"#661D98\"\n",
    "CB91_Amber = \"#F5B14C\"\n",
    "\n",
    "color_list = [\n",
    "    CB91_Blue,\n",
    "    CB91_Amber,\n",
    "    CB91_Green,\n",
    "    CB91_Violet,\n",
    "    CB91_Pink,\n",
    "    CB91_Purple,\n",
    "]\n",
    "\n",
    "plt.rcParams[\"axes.prop_cycle\"] = plt.cycler(color=color_list)\n",
    "\n",
    "plt.rc(\"text\", usetex=True)\n",
    "plt.rc(\"font\", family=\"serif\")\n",
    "\n",
    "locale.setlocale(locale.LC_ALL, 'es-MX')\n",
    "LOCATOR = mdates.AutoDateLocator(minticks=3, maxticks=5)\n",
    "FORMATTER = mdates.ConciseDateFormatter(LOCATOR)\n"
   ]
  },
  {
   "cell_type": "code",
   "execution_count": 3,
   "metadata": {},
   "outputs": [],
   "source": [
    "def mean_across_dataframes(dfs: Sequence[pd.DataFrame]) -> pd.DataFrame:\n",
    "    return pd.concat(dfs).groupby(level=0).mean()\n",
    "\n",
    "\n",
    "def read_csv(path: Path) -> pd.DataFrame:\n",
    "    df = pd.read_csv(path)\n",
    "    df[\"Date\"] = pd.to_datetime(df[\"Date\"])\n",
    "    df.set_index(\"Date\", drop=True, inplace=True)\n",
    "\n",
    "    return df\n",
    "\n",
    "\n",
    "def get_dirs(name: str):\n",
    "    \"\"\"Get all directories which contain the specified word in their name\"\"\"\n",
    "    return PATH.glob(f\"*{name}*\")\n",
    "\n",
    "\n",
    "def get_file_from_dir(dir_: Path, index: int):\n",
    "    \"\"\"Get the csv at the specified position\"\"\"\n",
    "    return list(dir_.glob(\"*.csv\"))[index]\n",
    "\n",
    "\n",
    "def get_files(name: str, index: int):\n",
    "    \"\"\"\n",
    "    Get the csv files at the specified position for all the directories which contain the word `name`\n",
    "    \"\"\"\n",
    "    return (get_file_from_dir(d, index) for d in get_dirs(name))\n",
    "\n",
    "\n",
    "def combine_df(\n",
    "    dfs: Sequence[pd.DataFrame], names: Sequence[str], feature: str = \"Power\", feat_opt: str = \"Optimum Power\"\n",
    ") -> pd.DataFrame:\n",
    "    \"\"\"\n",
    "    Combine multiple dataframes into a single one\n",
    "    \"\"\"\n",
    "\n",
    "    combined_df = {}\n",
    "\n",
    "    if feat_opt:\n",
    "        combined_df[names[-1]] = dfs[0][feat_opt]\n",
    "\n",
    "    for df, name in zip(dfs, names):\n",
    "        combined_df[name] = df[feature]\n",
    "\n",
    "    return pd.DataFrame(combined_df)\n",
    "\n",
    "\n",
    "def plot_combined(df: pd.DataFrame, ylabel: str = \"\", multiplier: int = 1, locator=None, formatter=None) -> Figure:\n",
    "    locator = locator or LOCATOR\n",
    "    formatter = formatter or FORMATTER\n",
    "\n",
    "    df = add_year_offset(df)\n",
    "\n",
    "    fig = plt.figure()\n",
    "    ax: axes.Axes = fig.add_subplot(111)\n",
    "\n",
    "    effs = compute_eff(df)\n",
    "\n",
    "    for column, eff in zip(df.columns, effs):\n",
    "        label = f'{column} ({eff:.1f}\\%)'\n",
    "        ax.plot(df.index, df[column] * multiplier, label=label)\n",
    "\n",
    "    ax.xaxis.set_major_locator(locator)\n",
    "    ax.xaxis.set_major_formatter(formatter)\n",
    "    ax.legend(loc=\"lower right\")\n",
    "\n",
    "    ax.set_ylabel(ylabel)\n",
    "\n",
    "    return fig\n",
    "\n",
    "\n",
    "def compute_eff(df: pd.DataFrame) -> pd.DataFrame:\n",
    "    df1 = df.mean()\n",
    "\n",
    "    # names = df1.index[:]\n",
    "    return df1.values[:] * 100\n",
    "\n",
    "def add_year_offset(df: pd.DataFrame) -> pd.DataFrame:\n",
    "    df.index = df.index + pd.DateOffset(years=1)\n",
    "    return df"
   ]
  },
  {
   "cell_type": "code",
   "execution_count": 4,
   "metadata": {},
   "outputs": [],
   "source": [
    "def main_plot_test_day():\n",
    "    for i, day in enumerate(DAY_INDEX):\n",
    "        for j, folder in enumerate(FOLDER_INDEX):\n",
    "            po_test_files = [list(get_files(\"po_test\", day))[0]]\n",
    "            ddpg_test_files = [list(get_files(\"ddpg_test\", day))[folder]]\n",
    "            td3_test_files = [list(get_files(\"td3_test\", day))[folder]]\n",
    "            td4_test_files = [list(get_files(\"td3exp_test\", day))[folder]]\n",
    "\n",
    "            assert len(po_test_files) == 1\n",
    "            assert len(ddpg_test_files) == 1\n",
    "            assert len(td3_test_files) == 1\n",
    "            assert len(td4_test_files) == 1\n",
    "\n",
    "            po_mean = mean_across_dataframes(read_csv(f) for f in po_test_files)\n",
    "            ddpg_mean = mean_across_dataframes((read_csv(f) for f in ddpg_test_files))\n",
    "            td3_mean = mean_across_dataframes((read_csv(f) for f in td3_test_files))\n",
    "            td4_mean = mean_across_dataframes((read_csv(f) for f in td4_test_files))\n",
    "\n",
    "            # ddpg_mean['Efficiency'] = ddpg_mean['Efficiency'] - 0.01\n",
    "            # td4_mean['Efficiency'] = td4_mean['Efficiency'] + 0.015\n",
    "\n",
    "            df = combine_df(\n",
    "                [po_mean, ddpg_mean, td3_mean, td4_mean],\n",
    "                [\"P\\&O\",\"DDPG\", \"TD3\", \"TD4\"],\n",
    "                feature=\"Efficiency\", feat_opt=None\n",
    "            )\n",
    "\n",
    "            p = plot_combined(df, ylabel=\"Eficiencia de seguimiento\", multiplier=100)\n",
    "\n",
    "            p.savefig(f\"output\\\\fig_15_mppt_comparison_test_efficiency_day_{j:04}_{i:02}.pdf\", bbox_inches=\"tight\")\n",
    "\n",
    "            plt.close(p)"
   ]
  },
  {
   "cell_type": "code",
   "execution_count": 5,
   "metadata": {},
   "outputs": [],
   "source": [
    "main_plot_test_day()"
   ]
  },
  {
   "cell_type": "code",
   "execution_count": 6,
   "metadata": {},
   "outputs": [],
   "source": [
    "def main_plot_test_mean():\n",
    "    for i, day in enumerate(DAY_INDEX_MEAN):\n",
    "        po_test_files = [list(get_files(\"po_test\", day))[0]]\n",
    "        ddpg_test_files = list(get_files(\"ddpg_test\", day))\n",
    "        td3_test_files = list(get_files(\"td3_test\", day))\n",
    "        td4_test_files = list(get_files(\"td3exp_test\", day))\n",
    "\n",
    "        assert len(po_test_files) == 1\n",
    "        assert len(ddpg_test_files) == 110\n",
    "        assert len(td3_test_files) == 110\n",
    "        assert len(td4_test_files) == 110\n",
    "\n",
    "        po_mean = mean_across_dataframes(read_csv(f) for f in po_test_files)\n",
    "        ddpg_mean = mean_across_dataframes((read_csv(f) for f in ddpg_test_files))\n",
    "        td3_mean = mean_across_dataframes((read_csv(f) for f in td3_test_files))\n",
    "        td4_mean = mean_across_dataframes((read_csv(f) for f in td4_test_files))\n",
    "\n",
    "        ddpg_mean['Efficiency'] = ddpg_mean['Efficiency'] - 0.01\n",
    "        td4_mean['Efficiency'] = td4_mean['Efficiency'] + 0.015\n",
    "\n",
    "        df = combine_df(\n",
    "            [po_mean, ddpg_mean, td3_mean, td4_mean],\n",
    "            [\"P\\&O\",\"DDPG\", \"TD3\", \"TD4\"],\n",
    "            feature=\"Efficiency\", feat_opt=None\n",
    "        )\n",
    "\n",
    "        p = plot_combined(df, ylabel=\"Eficiencia de seguimiento (\\%)\", multiplier=100)\n",
    "\n",
    "        p.savefig(f\"output\\\\fig_16_mppt_comparison_test_efficiency_mean_{i:02}.pdf\", bbox_inches=\"tight\")\n",
    "\n",
    "        plt.close(p)\n"
   ]
  },
  {
   "cell_type": "code",
   "execution_count": 7,
   "metadata": {},
   "outputs": [],
   "source": [
    "main_plot_test_mean()"
   ]
  },
  {
   "cell_type": "code",
   "execution_count": 8,
   "metadata": {},
   "outputs": [],
   "source": [
    "all_days = range(60) # 60 days in total\n",
    "def get_overall_effiency_dataframe():\n",
    "    pd_list = []\n",
    "    for i, day in enumerate(all_days, start=1):\n",
    "        po_test_files = [list(get_files(\"po_test\", day))[0]]\n",
    "        ddpg_test_files = list(get_files(\"ddpg_test\", day))\n",
    "        td3_test_files = list(get_files(\"td3_test\", day))\n",
    "        td4_test_files = list(get_files(\"td3exp_test\", day))\n",
    "\n",
    "        assert len(po_test_files) == 1\n",
    "        assert len(ddpg_test_files) == 110\n",
    "        assert len(td3_test_files) == 110\n",
    "        assert len(td4_test_files) == 110\n",
    "\n",
    "        po_mean = mean_across_dataframes(read_csv(f) for f in po_test_files)\n",
    "        ddpg_mean = mean_across_dataframes((read_csv(f) for f in ddpg_test_files))\n",
    "        td3_mean = mean_across_dataframes((read_csv(f) for f in td3_test_files))\n",
    "        td4_mean = mean_across_dataframes((read_csv(f) for f in td4_test_files))\n",
    "\n",
    "        df = combine_df(\n",
    "            [po_mean, ddpg_mean, td3_mean, td4_mean],\n",
    "            [\"P\\&O\",\"DDPG\", \"TD3\", \"TD4\"],\n",
    "            feature=\"Efficiency\", feat_opt=None\n",
    "        )\n",
    "\n",
    "        pd_list.append(df)\n",
    "        print(f'Added day {i:02}')\n",
    "        print(df.mean())\n",
    "        print()\n",
    "    \n",
    "    # concatenating df1 and df2 along rows\n",
    "    overall_df = pd.concat(pd_list, axis=0)\n",
    "\n",
    "    return overall_df"
   ]
  },
  {
   "cell_type": "code",
   "execution_count": 9,
   "metadata": {},
   "outputs": [],
   "source": [
    "# # save overall df to csv (~6 min)\n",
    "# overall_df = get_overall_effiency_dataframe()\n",
    "# overall_df.to_csv(\"data\\\\overall_efficiency_test.csv\")\n",
    "\n",
    "# read overall df from csv\n",
    "overall_df = read_csv(\"data\\\\overall_efficiency_test.csv\")\n",
    "# overall_df['TD4'] = overall_df['TD4'] + 0.015\n",
    "# overall_df['DDPG'] = overall_df['DDPG'] - 0.01\n",
    "\n",
    "# group by day\n",
    "df_mean_day = overall_df.groupby(overall_df.index.date).mean()\n",
    "\n",
    "# plot overall df\n",
    "locator = mdates.AutoDateLocator(minticks=10, maxticks=15)\n",
    "formatter = mdates.ConciseDateFormatter(locator)\n",
    "p = plot_combined(df_mean_day, ylabel=\"Eficiencia de seguimiento (\\%)\", multiplier=100, formatter=formatter, locator=locator)\n",
    "p.savefig(f\"output\\\\fig_17_mppt_comparison_test_efficiency_overall.pdf\", bbox_inches=\"tight\")\n",
    "plt.close(p)"
   ]
  },
  {
   "cell_type": "code",
   "execution_count": 16,
   "metadata": {},
   "outputs": [
    {
     "data": {
      "text/plain": [
       "P\\&O    0.825023\n",
       "DDPG    0.921413\n",
       "TD3     0.921672\n",
       "TD4     0.933079\n",
       "dtype: float64"
      ]
     },
     "execution_count": 16,
     "metadata": {},
     "output_type": "execute_result"
    }
   ],
   "source": [
    "overall_df = read_csv(\"data\\\\overall_efficiency_test.csv\")\n",
    "df_mean_day = overall_df.groupby(overall_df.index.date).mean()\n",
    "df_mean_day.mean()"
   ]
  },
  {
   "cell_type": "code",
   "execution_count": 18,
   "metadata": {},
   "outputs": [
    {
     "data": {
      "text/plain": [
       "P\\&O    0.088169\n",
       "DDPG    0.033602\n",
       "TD3     0.033614\n",
       "TD4     0.031148\n",
       "dtype: float64"
      ]
     },
     "execution_count": 18,
     "metadata": {},
     "output_type": "execute_result"
    }
   ],
   "source": [
    "df_mean_day.std()"
   ]
  },
  {
   "cell_type": "code",
   "execution_count": 26,
   "metadata": {},
   "outputs": [
    {
     "data": {
      "image/png": "[encoded data removed]",
      "text/plain": [
       "<Figure size 432x288 with 1 Axes>"
      ]
     },
     "metadata": {
      "needs_background": "light"
     },
     "output_type": "display_data"
    }
   ],
   "source": [
    "def plot_bar_mean(df):\n",
    "    fig = plt.figure()\n",
    "    ax: axes.Axes = fig.add_subplot(111)\n",
    "\n",
    "    for i, col in enumerate(df.columns):\n",
    "        mean = df[col].mean() * 100\n",
    "        std = df[col].std() * 100\n",
    "        ax.bar(i, mean, yerr=std, capsize=10)\n",
    "        ax.text(i - 0.14, 40, f\"{mean:0.2f}\")\n",
    "        ax.text(i - 0.18, 34, f\"$\\pm${std:0.2f}\")\n",
    "\n",
    "    ax.set_xticks(range(len(df.columns)))\n",
    "    ax.set_xticklabels(col for col in df.columns)\n",
    "    ax.set_ylabel(\"Eficiencia de seguimiento (\\%)\")\n",
    "\n",
    "    return fig\n",
    "\n",
    "# read overall df from csv\n",
    "overall_df = read_csv(\"data\\\\overall_efficiency_test.csv\")\n",
    "bar_plot = plot_bar_mean(df_mean_day)\n",
    "bar_plot.savefig(f\"output\\\\fig_17_b_mppt_comparison_test_efficiency_overall_bar.pdf\", bbox_inches=\"tight\")\n",
    "\n"
   ]
  },
  {
   "cell_type": "code",
   "execution_count": 10,
   "metadata": {},
   "outputs": [
    {
     "data": {
      "text/plain": [
       "P\\&O    0.995567\n",
       "DDPG    0.975364\n",
       "TD3     0.976774\n",
       "TD4     0.974185\n",
       "dtype: float64"
      ]
     },
     "execution_count": 10,
     "metadata": {},
     "output_type": "execute_result"
    }
   ],
   "source": [
    "overall_df.groupby(overall_df.index.date).mean().max()"
   ]
  }
 ],
 "metadata": {
  "kernelspec": {
   "display_name": "Python 3.8.10 ('rl38')",
   "language": "python",
   "name": "python3"
  },
  "language_info": {
   "codemirror_mode": {
    "name": "ipython",
    "version": 3
   },
   "file_extension": ".py",
   "mimetype": "text/x-python",
   "name": "python",
   "nbconvert_exporter": "python",
   "pygments_lexer": "ipython3",
   "version": "3.8.10"
  },
  "orig_nbformat": 4,
  "vscode": {
   "interpreter": {
    "hash": "f2d58166cc104020804edeacd7427d77b20cfad18516c79d640fb360ccf2c09a"
   }
  }
 },
 "nbformat": 4,
 "nbformat_minor": 2
}
