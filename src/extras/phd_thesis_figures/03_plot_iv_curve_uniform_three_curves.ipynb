{
 "cells": [
  {
   "cell_type": "code",
   "execution_count": 1,
   "metadata": {},
   "outputs": [],
   "source": [
    "import matplotlib.pyplot as plt\n",
    "from src.pvsys import ShadedArray"
   ]
  },
  {
   "cell_type": "code",
   "execution_count": 2,
   "metadata": {},
   "outputs": [],
   "source": [
    "IRRADIANCE_1 = 900\n",
    "IRRADIANCE_2 = 600\n",
    "IRRADIANCE_3 = 300\n",
    "TEMPERATURE_1 = 16.88\n",
    "TEMPERATURE_2 = 16.25\n",
    "TEMPERATURE_3 = 15.625\n",
    "CELL_TEMP_1 = ShadedArray.cell_temp_from_ambient(IRRADIANCE_1, TEMPERATURE_1)\n",
    "CELL_TEMP_2 = ShadedArray.cell_temp_from_ambient(IRRADIANCE_2, TEMPERATURE_2)\n",
    "CELL_TEMP_3 = ShadedArray.cell_temp_from_ambient(IRRADIANCE_3, TEMPERATURE_3)\n",
    "\n",
    "pvsyss = ShadedArray.get_default_array()\n",
    "\n",
    "plt.rc(\"text\", usetex=True)\n",
    "plt.rc(\"font\", family=\"serif\")"
   ]
  },
  {
   "cell_type": "code",
   "execution_count": 3,
   "metadata": {},
   "outputs": [],
   "source": [
    "pvsyss.simulate(\n",
    "    duty_cycle=0.0,\n",
    "    irradiance=[IRRADIANCE_1, ] * 4,\n",
    "    ambient_temperature=[TEMPERATURE_1, ] * 4,\n",
    ")\n",
    "uniform_curve_1 = pvsyss.get_shaded_iv_curve(curve_points=1000)\n",
    "power_1 = pvsyss.power(uniform_curve_1.voltage, uniform_curve_1.current)\n",
    "mpp_1 = pvsyss.mpp_from_curve(uniform_curve_1)\n",
    "\n",
    "pvsyss.simulate(\n",
    "    duty_cycle=0.0,\n",
    "    irradiance=[IRRADIANCE_2, ] * 4,\n",
    "    ambient_temperature=[TEMPERATURE_2, ] * 4,\n",
    ")\n",
    "uniform_curve_2 = pvsyss.get_shaded_iv_curve(curve_points=1000)\n",
    "power_2 = pvsyss.power(uniform_curve_2.voltage, uniform_curve_2.current)\n",
    "mpp_2 = pvsyss.mpp_from_curve(uniform_curve_2)\n",
    "\n",
    "pvsyss.simulate(\n",
    "    duty_cycle=0.0,\n",
    "    irradiance=[IRRADIANCE_3, ] * 4,\n",
    "    ambient_temperature=[TEMPERATURE_3, ] * 4,\n",
    ")\n",
    "uniform_curve_3 = pvsyss.get_shaded_iv_curve(curve_points=1000)\n",
    "power_3 = pvsyss.power(uniform_curve_3.voltage, uniform_curve_3.current)\n",
    "mpp_3 = pvsyss.mpp_from_curve(uniform_curve_3)\n"
   ]
  },
  {
   "cell_type": "code",
   "execution_count": 4,
   "metadata": {},
   "outputs": [
    {
     "data": {
      "image/png": "[encoded data removed]",
      "text/plain": [
       "<Figure size 432x288 with 1 Axes>"
      ]
     },
     "metadata": {
      "needs_background": "light"
     },
     "output_type": "display_data"
    }
   ],
   "source": [
    "fig = plt.figure()\n",
    "ax = fig.add_subplot(111)\n",
    "\n",
    "ax.set_xlabel(\"Voltaje (V)\")\n",
    "ax.set_ylabel(\"Corriente (A)\")\n",
    "\n",
    "# Plot I-V curves\n",
    "# dashes = (line size, space size)\n",
    "ax.plot(uniform_curve_1.voltage, uniform_curve_1.current, linewidth=1.0, label=f'{IRRADIANCE_1} $\\mathrm{{W/m^2}}$, {CELL_TEMP_1:0.0f} $^\\circ \\mathrm{{C}}$')\n",
    "ax.plot(uniform_curve_2.voltage, uniform_curve_2.current, linewidth=1.0, label=f'{IRRADIANCE_2} $\\mathrm{{W/m^2}}$, {CELL_TEMP_2:0.0f} $^\\circ \\mathrm{{C}}$')\n",
    "ax.plot(uniform_curve_3.voltage, uniform_curve_3.current, linewidth=1.0, label=f'{IRRADIANCE_3} $\\mathrm{{W/m^2}}$, {CELL_TEMP_3:0.0f} $^\\circ \\mathrm{{C}}$')\n",
    "\n",
    "ax.legend(loc='lower left')\n",
    "\n",
    "fig.tight_layout()  # otherwise the right y-label is slightly clipped\n",
    "\n",
    "fig.savefig(r'output/ch2_08_iv_curve_three_sets.pdf', bbox_inches='tight')"
   ]
  }
 ],
 "metadata": {
  "interpreter": {
   "hash": "f2d58166cc104020804edeacd7427d77b20cfad18516c79d640fb360ccf2c09a"
  },
  "kernelspec": {
   "display_name": "Python 3.8.10 ('rl38')",
   "language": "python",
   "name": "python3"
  },
  "language_info": {
   "codemirror_mode": {
    "name": "ipython",
    "version": 3
   },
   "file_extension": ".py",
   "mimetype": "text/x-python",
   "name": "python",
   "nbconvert_exporter": "python",
   "pygments_lexer": "ipython3",
   "version": "3.8.10"
  },
  "orig_nbformat": 4
 },
 "nbformat": 4,
 "nbformat_minor": 2
}
